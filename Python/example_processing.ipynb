{
 "cells": [
  {
   "cell_type": "code",
   "execution_count": 8,
   "metadata": {
    "collapsed": true
   },
   "outputs": [],
   "source": [
    "import ants\n",
    "import tensorflow as tf\n",
    "from scripts.build_resnet import build_ResNet152\n",
    "from scripts.preprocessing import preproc_for_pvsnet\n",
    "from tensorflow import keras\n",
    "import numpy as np"
   ]
  },
  {
   "cell_type": "code",
   "execution_count": 27,
   "outputs": [],
   "source": [
    "model = build_ResNet152((512,512,16,1))\n",
    "model.load_weights(\"./weights/test_model_weights.h5\")"
   ],
   "metadata": {
    "collapsed": false,
    "pycharm": {
     "name": "#%%\n"
    }
   }
  },
  {
   "cell_type": "code",
   "execution_count": 25,
   "outputs": [],
   "source": [
    "# For this command, the second argument is a reference image to use for alignment. Ideally this image will be in MNI space. I just\n",
    "# used the first subject as an example here but the pipeline would first align this subject's T2 to MNI space (rigid), then use that\n",
    "# aligned T2 as the template for the rest of the subjects, assuming it is of good quality.\n",
    "preproc_nii = preproc_for_pvsnet('./data/sub-101/sub-101_space-T1_desc-masked_T2.nii.gz',\n",
    "                                 './data/sub-101/sub-101_space-T1_desc-masked_T2.nii.gz')\n",
    "model_input = preproc_nii.numpy()[np.newaxis, :,:,:,np.newaxis]"
   ],
   "metadata": {
    "collapsed": false,
    "pycharm": {
     "name": "#%%\n"
    }
   }
  },
  {
   "cell_type": "code",
   "execution_count": 31,
   "outputs": [],
   "source": [
    "pred = model.predict(model_input)"
   ],
   "metadata": {
    "collapsed": false,
    "pycharm": {
     "name": "#%%\n"
    }
   }
  }
 ],
 "metadata": {
  "kernelspec": {
   "display_name": "Python 3",
   "language": "python",
   "name": "python3"
  },
  "language_info": {
   "codemirror_mode": {
    "name": "ipython",
    "version": 2
   },
   "file_extension": ".py",
   "mimetype": "text/x-python",
   "name": "python",
   "nbconvert_exporter": "python",
   "pygments_lexer": "ipython2",
   "version": "2.7.6"
  }
 },
 "nbformat": 4,
 "nbformat_minor": 0
}
